{
 "cells": [
  {
   "cell_type": "markdown",
   "metadata": {},
   "source": [
    "# Bostrom supply simulation\n",
    "---"
   ]
  },
  {
   "cell_type": "markdown",
   "metadata": {},
   "source": [
    "## Goals\n",
    "\n",
    "Optimize parametrs for launching Bostrom.\n",
    "\n",
    "An idea is to model value of BOOT through undestanding of established network effects in Ethereum and Fantom.\n",
    "Then we can forecast claim dynamics and address growth based on aproximated network effects. Asuming some demand for cyberlinks based on address growth we can adjust supply of cyberlinks so that V price could grow. Given model also allow to define inflation parametrs of BOOT to optimize investments into the hardware infrustructure.\n",
    "\n",
    "\n",
    "## Understanding network effects\n",
    "\n",
    "Modeling price of BOOT as a function of usage weighted on network effects.  \n",
    "\n",
    "Simulate agent base:\n",
    "- startAgentCount = 100000\n",
    "- agentsCount:\n",
    "\n",
    "\\begin{gather}\n",
    "\\\\\n",
    "agentsCount = 8.97*days^2 + 105*days + 100000\\\\\n",
    "\\\\\n",
    "\\end{gather}\n",
    "\n",
    "Simulate capitalisation:\n",
    "- StartingAgentValue = 1 ETH\n",
    "- CapitalisationPerUser:\n",
    "\n",
    "\\begin{gather}\n",
    "\\\\\n",
    "CapitalisationPerUser = 5011.9 * agentsCount^{-0,74} \\\\\n",
    "\\\\\n",
    "\\end{gather}\n",
    "\n",
    "\n",
    "\n",
    "Simulate gift claim dynamics.  \n",
    "Parameters to define:\n",
    "- MinGiftedAgents  \n",
    "Assumtions:\n",
    "- ClaimRate (0.1% per day)\n",
    "\n",
    "\n",
    "## Predicting V demand\n",
    "\n",
    "Simulate cyberlinks usage.  \n",
    "\n",
    "- Name (ens index)\n",
    "- Following (proportion of agents)\n",
    "- Extra \n",
    "- Guaranted links by the founding team\n",
    "\n",
    "Base estimate of cyberlink per agent:\n",
    "\n",
    "\\begin{gather}\n",
    "\\\\\n",
    "CyberlinksPerAgent = 9 \\cdot agentsCount^{-0.27} \\\\\n",
    "\\\\\n",
    "\\end{gather}\n",
    "\n",
    "\n",
    "\n",
    "## Adjusting V supply\n",
    "\n",
    "Model minting properties of V (and A = V) for planing of GPU storage and maximisation of price.  \n",
    "Parameters to define for A and V:\n",
    "- InvestmintPeriod\n",
    "- InvestmintAmount\n",
    "- MintrateFunction\n",
    "- MaxInvestmintSchedule  \n",
    "Asumptions:\n",
    "- LockRate (70% of bonded)\n",
    "\n",
    "## Investments into hardware\n",
    "\n",
    "Simulate ability of heroes to invest into infrastructure depending on different market conditions.  \n",
    "Parameters to define for BOOT:  \n",
    "- InflationRateChange\n",
    "- InflationMax\n",
    "- InflationMin\n",
    "- GoalBonded  \n",
    "Asumptions: \n",
    "- BondedRate (70% of supply)\n",
    "\n",
    "The formula used in excel model:\n",
    "\n",
    "\\begin{gather}\n",
    "\\\\\n",
    "supply = supplyBase \\cdot ( 1 + \\frac{ 0.12}{1 + \\frac{days}{365 \\cdot 2}})^{\\frac{days}{365}} \\\\\n",
    "\\\\\n",
    "\\end{gather}\n",
    "\n",
    "## Further work\n",
    "\n",
    "Model could work as prediction governance tool for working network based on acutal measurements.\n",
    "\n",
    "## Legend\n",
    "\n",
    "There are three network tokens:\n",
    "\n",
    "* F - Unclaimed network token\n",
    "* T - Liquid network token\n",
    "* L - Frozen network token\n",
    "\n",
    "\n",
    "and two resource tokens:\n",
    "\n",
    "* A - Amper token\n",
    "* V - Volt token\n",
    "\n",
    "The initial state of all tokens should be defined below\n",
    "\n",
    "* 1 **timestep** == 1 time unit\n",
    "\n",
    "## Claim function\n",
    "\n",
    "The function of claim frozen tokens is:\n",
    "\n",
    "\\begin{gather}\n",
    "\\\\\n",
    "f(x) = 7 \\cdot 10^{14} - \\frac{5.6 \\cdot 10^{14}}{3}x \\\\\n",
    "\\\\\n",
    "\\end{gather}\n",
    "\n",
    "<img src='images/claim.png' />\n",
    "\n",
    "where **x** is year. This function means 80% of frozen tokens are going to be claimed in 3 years linearly by ~187 TeraTokens per year\n",
    "\n",
    "## Vesting and Unvesting\n",
    "\n",
    "The vesting function is defined as the amount of locking tokens in the time unit assumed by all liquid tokens must be locked in the lock timeframe. \n",
    "\n",
    "The vesting function is defined as the amount of unlocking tokens in the time unit assumed by all locked tokens must be unlocked in the unlock timeframe. \n",
    "\n",
    "## Resource tokens\n",
    "\n",
    "Amperes and Volts mints by the following formula:\n",
    "\n",
    "\\begin{gather}\n",
    "\\\\\n",
    "f(x) = \\frac{x \\cdot \\frac{maxLockTime}{cycle}}{initPrice} \\cdot MR^r \\\\\n",
    "\\\\\n",
    "\\end{gather}\n",
    "\n",
    "where: \n",
    "* **x** is number of vested tokens\n",
    "* **lockTime** is the maximum time for locking tokens\n",
    "* **cycle** is amount of blocks for rank and entropy calculation\n",
    "* **initPrice** is the initial price of the minting\n",
    "* **MR_r** is mint rate [100, 1]. It's different for all energy tokens\n",
    "\n",
    "\n",
    "\n",
    "## Mint Rate (Amperes)\n",
    "\n",
    "Mint rate is multiple coefficient for minting Amper tokens\n",
    "\n",
    "It is halving every year\n",
    "\n",
    "\\begin{gather}\n",
    "\\\\\n",
    "MR_a(x) = \\frac{initMR^a}{2^{\\lfloor{x}\\rfloor}}\\\\\n",
    "\\\\\n",
    "\\end{gather}\n",
    "\n",
    "where: \n",
    "* **x** is year\n",
    "* **initMRa** is the initial value of MRa\n",
    "\n",
    "f.e.\n",
    "\n",
    "<img src='images/mr_a.png' />\n",
    "\n",
    "\n",
    "## Mint Rate (Voltes)\n",
    "\n",
    "Mint rate is multiple coefficient for minting Volt tokens\n",
    "\n",
    "It is halving every amount of supply defined\n",
    "\n",
    "\\begin{gather}\n",
    "\\\\\n",
    "MR_v(x) = \\frac{initMR^v}{2^{\\lfloor{x}\\rfloor}}\\\\\n",
    "\\\\\n",
    "\\end{gather}\n",
    "\n",
    "where: \n",
    "* **x** is defined supply\n",
    "* **initMRv** is the initial value of MRv\n",
    "\n",
    "\n",
    "## Inflation\n",
    "\n",
    "The inflation function depends on the ratio between vested tokens and tokens supply. It the same as in cosmos-based networks. \n",
    "\n",
    "## Supply\n",
    "\n",
    "Supply is the sum of liquid, vested and frozen tokens in each block.\n",
    "\n",
    "\n",
    "## Utils\n",
    "\n",
    "The function of using volts for cyberlinking. By the simulation the probability in a timestamp [0.01, 0.02, 0.03, 0.05, 0.08, 0.13, 0.21, 0.34] .\n",
    "\n",
    "\n",
    "## Assumptions\n",
    "\n",
    "1. All agents lock tokens for the maximum available period defined in params for simulating\n",
    "2. All agents mint maximum **A** and **V** tokens in 50/50 ratio"
   ]
  },
  {
   "cell_type": "markdown",
   "metadata": {},
   "source": [
    "## Mathematical Specification"
   ]
  },
  {
   "cell_type": "markdown",
   "metadata": {},
   "source": [
    "### Differential Equations\n",
    "\n",
    "* T - liquid network token\n",
    "* L - locked(vested) network token\n",
    "* F - not claimed(frozen) network token\n",
    "* IRC_u - inflation rate change per time unit\n",
    "* S - total network tokens supply\n",
    "* I - inflation per time unit in network tokens\n",
    "* Provision - per time unit token provision\n",
    "* A - Amper token\n",
    "* V - Volt token\n",
    "* CL - cyberlinks\n",
    "\n",
    "\\begin{gather}\n",
    "\\\\\n",
    "T_u = T_{u-1} + {\\Delta T} \\tag{1} \\\\\n",
    "L_u = V_{u-1} + {\\Delta V} \\tag{2} \\\\\n",
    "F_u = F_{u-1} + {\\Delta F} \\tag{3} \\\\\n",
    "A_u = A_{u-1} + {\\Delta A} \\tag{4} \\\\\n",
    "V_u = V_{u-1} + {\\Delta V} \\tag{5} \\\\ \\\\\n",
    "MR^{a}_{u} = {\\Delta MR^a} \\tag{6} \\\\ \\\\\n",
    "MR^{v}_{u} = {\\Delta MR^v} \\tag{7} \\\\ \\\\\n",
    "CL_{u} = CL_{u-1} + {\\Delta CL} \\tag{8} \\\\ \\\\\n",
    "S_u = T_u + L_u + F_u \\tag{9} \\\\ \n",
    "\\\\\n",
    "\\end{gather}\n",
    "\n",
    "where the rate of change ($\\Delta$) is:\n",
    "\\begin{gather}\n",
    "\\\\\n",
    "{\\Delta F} = - \\frac{5.6 \\cdot 10^{14}}{3 \\cdot unitsPerYear} \\tag{10} \\\\ \\\\\n",
    "{\\Delta L} = \\frac{T_{u-1}}{\\frac{unitsPerYear}{12} \\cdot vestingSpeed} - {\\Delta U} \\tag{11} \\\\ \\\\\n",
    "{\\Delta T} = - {\\Delta F} - {\\Delta L} + I_{u-1} + {\\Delta U}  \\tag{12} \\\\ \\\\\n",
    "{\\Delta A} = \\lfloor{\\lfloor{\\frac{\\frac{1}{2} \\cdot \\Delta L}{initPrice} \\cdot \\frac{vestringTime_{max}}{baseVestingTime}}\\rfloor \\cdot MR^a}\\rfloor  \\tag{13} \\\\ \\\\\n",
    "{\\Delta V} = \\lfloor{\\lfloor{\\frac{\\frac{1}{2} \\cdot \\Delta L}{initPrice} \\cdot \\frac{vestringTime_{max}}{baseVestingTime}}\\rfloor \\cdot MR^v}\\rfloor  \\tag{14} \\\\ \\\\\n",
    "{\\Delta U} = \\frac{V_{u-1}}{\\frac{unitsPerYear}{12} \\cdot unvestingSpeed} \\tag{15} \\\\ \\\\\n",
    "{\\Delta MR^a} = \\frac{MR^a_{init}}{2^{\\lfloor{\\frac{u}{unitsPerYear}}\\rfloor}} \\tag{16} \\\\ \\\\\n",
    "{\\Delta MR^v} = \\frac{MR^v_{init}}{2^{\\lfloor{\\frac{V}{voltHalving}}\\rfloor}} \\tag{17} \\\\ \\\\\n",
    "{\\Delta CL} = V \\cdot Ut(u) \\tag{18} \\\\ \\\\\n",
    "\\\\\n",
    "\\end{gather}\n",
    "\n",
    "where:\n",
    "\\begin{gather}\n",
    "\\\\\n",
    "I_{u-1} = \\frac{S_{u-1} \\cdot IRC_{u-1}}{unitsPerYear} \\tag{19} \\\\ \\\\\n",
    "IRC_u = \\frac{\\left(1 - \\frac{vestedRatio_{u-1}}{goalVested}\\right) \\cdot inflationRateChange}{unitsPerYear} \\tag{20} \\\\ \\\\\n",
    "{vestingTime_{max} = initVestingTime_{max} \\cdot 2^{\\lfloor{\\frac{u}{unitsPerYear}}\\rfloor}} \\tag{21} \\\\ \\\\\n",
    "Ut(u) = [0.01, 0.02, 0.03, 0.05, 0.08, 0.13, 0.21, 0.34] \\tag{22} \n",
    "\\\\\n",
    "\\\\\n",
    "\\end{gather}"
   ]
  },
  {
   "cell_type": "markdown",
   "metadata": {},
   "source": [
    "## A/B simulations params\n",
    "\n",
    "\n",
    "| Param name | Simulation A | Simulation B|\n",
    "|:---|---:|---:|\n",
    "|Liquid Tokens (T)|200,000,000,000,000|200,000,000,000,000|\n",
    "|Frozen Tokens (F)|700,000,000,000,000|700,000,000,000,000|\n",
    "|Vested Tokens (L)|100,000,000,000,000|100,000,000,000,000|\n",
    "|Initial inflation |5.00|5.00|\n",
    "|Amper Mint Rate init|50.00|50.00|\n",
    "|Volt Mint Rate init|100.00|100.00|\n",
    "|Inflation rate change|13.00|13.00|\n",
    "|Inflation min|1.00|1.00|\n",
    "|Inflation max|15.00|15.00|\n",
    "|Goal vested|80.00|80.00|\n",
    "|Volt halving|1,000,000.00|1,000,000.00|\n",
    "|Resource token init price|100,000,000.00|100,000,000.00|"
   ]
  },
  {
   "cell_type": "code",
   "execution_count": null,
   "metadata": {},
   "outputs": [],
   "source": [
    "import time\n",
    "\n",
    "# Standard libraries: https://docs.python.org/3/library/\n",
    "import math\n",
    "\n",
    "# Analysis and plotting modules\n",
    "import pandas as pd"
   ]
  },
  {
   "cell_type": "markdown",
   "metadata": {},
   "source": [
    "## Initial state"
   ]
  },
  {
   "cell_type": "code",
   "execution_count": null,
   "metadata": {},
   "outputs": [],
   "source": [
    "simPeriod = 10          # amount of years for simulating\n",
    "unitsPerYear = 365        # units per year(days)"
   ]
  },
  {
   "cell_type": "code",
   "execution_count": null,
   "metadata": {},
   "outputs": [],
   "source": [
    "initial_state_a = {\n",
    "    'T': 200_000_000_000_000,\n",
    "    'F': 700_000_000_000_000,\n",
    "    'L': 100_000_000_000_000,\n",
    "    'A': 0,\n",
    "    'V': 0,\n",
    "    'd_u': 0,\n",
    "    'I_r': 0.05,\n",
    "    'd_l': 0,\n",
    "    'MRa': 50,\n",
    "    'MRv': 100,\n",
    "    'CL': 0,\n",
    "    'maxVestingTime': math.floor(unitsPerYear / 4)\n",
    "}"
   ]
  },
  {
   "cell_type": "code",
   "execution_count": null,
   "metadata": {},
   "outputs": [],
   "source": [
    "# cadCAD configuration modules\n",
    "from cadCAD.configuration.utils import config_sim\n",
    "from cadCAD.configuration import Experiment\n",
    "\n",
    "# cadCAD simulation engine modules\n",
    "from cadCAD.engine import ExecutionMode, ExecutionContext\n",
    "from cadCAD.engine import Executor\n",
    "\n",
    "from collections import Counter\n",
    "from cadCAD import configs\n",
    "\n",
    "# custom functions modules\n",
    "\n",
    "from utils.psub import partial_state_update_blocks"
   ]
  },
  {
   "cell_type": "markdown",
   "metadata": {},
   "source": [
    "## Params for simulating"
   ]
  },
  {
   "cell_type": "code",
   "execution_count": null,
   "metadata": {},
   "outputs": [],
   "source": [
    "import itertools\n",
    "\n",
    "vestingSpeed = [3, 6, 12, 18, 24, 30, 36]\n",
    "unvestingSpeed = [72, 60, 48, 36, 30, 24]\n",
    "cyberlinks_util = [0.01, 0.02, 0.03, 0.05, 0.08, 0.13, 0.21, 0.34]\n",
    "\n",
    "parameter_sweep = list(itertools.product(vestingSpeed, unvestingSpeed, cyberlinks_util))\n",
    "\n",
    "vestingSpeed = [x[0] for x in parameter_sweep]\n",
    "unvestingSpeed = [x[1] for x in parameter_sweep]\n",
    "cyberlinks_util = [x[2] for x in parameter_sweep]"
   ]
  },
  {
   "cell_type": "code",
   "execution_count": null,
   "metadata": {},
   "outputs": [],
   "source": [
    "system_params_a = {\n",
    "    'inflationRateChange': [0.13], # maximum inflation rate change per year\n",
    "    'inflationMin': [0.01], # minimum percent of the inflation\n",
    "    'inflationMax': [0.15], # maximum percent of the inflation\n",
    "    'goalVested': [0.80], # desireable ratio between vested tokens and tokens supply\n",
    "    'unitsPerYear': [unitsPerYear], # units per year(minutes)\n",
    "    'vestingSpeed': vestingSpeed, # amount of months to vest all liquid tokens\n",
    "    'unvestingSpeed': unvestingSpeed, # amount of months to uninvest all vested tokens\n",
    "    'voltHalving': [10_000_000], # 10 MegaVolt\n",
    "    'cyberlinks_util': cyberlinks_util,\n",
    "    'MRa': [50], # initial mint rate for Amperes\n",
    "    'MRv': [100], # initial mint rate for Voltes\n",
    "    'initPrice': [10_000_000], # initial cost for resource token in 1 cycle\n",
    "    'baseVestingTime': [math.floor(unitsPerYear / 4)]\n",
    "}"
   ]
  },
  {
   "cell_type": "code",
   "execution_count": null,
   "metadata": {},
   "outputs": [],
   "source": [
    "del configs[:]\n",
    "experiment = Experiment()\n",
    "\n",
    "sim_config = config_sim({\n",
    "    'N': 1,\n",
    "    'T': range(int(math.ceil(simPeriod * unitsPerYear))),\n",
    "    'M': system_params_a\n",
    "})\n",
    "\n",
    "experiment.append_configs(\n",
    "    initial_state = initial_state_a,\n",
    "    partial_state_update_blocks = partial_state_update_blocks,\n",
    "    sim_configs = sim_config\n",
    ")"
   ]
  },
  {
   "cell_type": "code",
   "execution_count": null,
   "metadata": {
    "scrolled": false
   },
   "outputs": [],
   "source": [
    "exec_context = ExecutionContext()\n",
    "\n",
    "simulation = Executor(exec_context=exec_context, configs=configs)\n",
    "raw_result, tensor_field, sessions = simulation.execute()"
   ]
  },
  {
   "cell_type": "code",
   "execution_count": null,
   "metadata": {},
   "outputs": [],
   "source": [
    "start_time = time.time()\n",
    "simulation_result = pd.DataFrame(raw_result)\n",
    "print(\"--- %s seconds ---\" % (time.time() - start_time))"
   ]
  },
  {
   "cell_type": "code",
   "execution_count": null,
   "metadata": {},
   "outputs": [],
   "source": [
    "start_time = time.time()"
   ]
  },
  {
   "cell_type": "code",
   "execution_count": null,
   "metadata": {},
   "outputs": [],
   "source": [
    "df = simulation_result.copy()\n",
    "df['Supply'] = df['T'] + df['F'] + df['L']\n",
    "df['AmPrice'] = df['A'] / df['V']\n",
    "df"
   ]
  },
  {
   "cell_type": "code",
   "execution_count": null,
   "metadata": {},
   "outputs": [],
   "source": [
    "df"
   ]
  },
  {
   "cell_type": "code",
   "execution_count": null,
   "metadata": {},
   "outputs": [],
   "source": [
    "# save local model file for power bi\n",
    "# import pyarrow as pa\n",
    "# import pyarrow.parquet as pq\n",
    "# table = pa.Table.from_pandas(df)\n",
    "# pq.write_table(table, 'simulation.parquet')"
   ]
  },
  {
   "cell_type": "code",
   "execution_count": null,
   "metadata": {},
   "outputs": [],
   "source": [
    "from utils.plots import linear_plot, scatter_plot, df_preparator"
   ]
  },
  {
   "cell_type": "code",
   "execution_count": null,
   "metadata": {},
   "outputs": [],
   "source": [
    "plot_df = df_preparator(df)"
   ]
  },
  {
   "cell_type": "markdown",
   "metadata": {},
   "source": [
    "## Inflation"
   ]
  },
  {
   "cell_type": "code",
   "execution_count": null,
   "metadata": {
    "scrolled": false
   },
   "outputs": [],
   "source": [
    "scatter_plot(plot_df, \"I_r\")"
   ]
  },
  {
   "cell_type": "markdown",
   "metadata": {},
   "source": [
    "## Supply"
   ]
  },
  {
   "cell_type": "code",
   "execution_count": null,
   "metadata": {},
   "outputs": [],
   "source": [
    "scatter_plot(plot_df, 'Supply')"
   ]
  },
  {
   "cell_type": "markdown",
   "metadata": {},
   "source": [
    "## Vested"
   ]
  },
  {
   "cell_type": "code",
   "execution_count": null,
   "metadata": {},
   "outputs": [],
   "source": [
    "scatter_plot(plot_df, 'L')"
   ]
  },
  {
   "cell_type": "markdown",
   "metadata": {},
   "source": [
    "## Ampler tokens supply"
   ]
  },
  {
   "cell_type": "code",
   "execution_count": null,
   "metadata": {},
   "outputs": [],
   "source": [
    "scatter_plot(plot_df, 'A')"
   ]
  },
  {
   "cell_type": "markdown",
   "metadata": {},
   "source": [
    "## Volt tokens supply"
   ]
  },
  {
   "cell_type": "code",
   "execution_count": null,
   "metadata": {},
   "outputs": [],
   "source": [
    "scatter_plot(plot_df, 'V')"
   ]
  },
  {
   "cell_type": "markdown",
   "metadata": {},
   "source": [
    "## Mint Rate Volter-Amper"
   ]
  },
  {
   "cell_type": "code",
   "execution_count": null,
   "metadata": {},
   "outputs": [],
   "source": [
    "linear_plot(plot_df, ['MRa', 'MRv'])"
   ]
  },
  {
   "cell_type": "markdown",
   "metadata": {},
   "source": [
    "## Max vesting time"
   ]
  },
  {
   "cell_type": "code",
   "execution_count": null,
   "metadata": {},
   "outputs": [],
   "source": [
    "linear_plot(plot_df, 'maxVestingTime')"
   ]
  },
  {
   "cell_type": "markdown",
   "metadata": {},
   "source": [
    "## Ratio between amper supply and volt supply"
   ]
  },
  {
   "cell_type": "code",
   "execution_count": null,
   "metadata": {
    "scrolled": false
   },
   "outputs": [],
   "source": [
    "scatter_plot(plot_df, 'AmPrice')"
   ]
  },
  {
   "cell_type": "markdown",
   "metadata": {},
   "source": [
    "## Cyberlinks"
   ]
  },
  {
   "cell_type": "code",
   "execution_count": null,
   "metadata": {},
   "outputs": [],
   "source": [
    "scatter_plot(plot_df, 'CL')"
   ]
  },
  {
   "cell_type": "code",
   "execution_count": null,
   "metadata": {},
   "outputs": [],
   "source": [
    "print(\"--- %s seconds ---\" % (time.time() - start_time))"
   ]
  },
  {
   "cell_type": "code",
   "execution_count": null,
   "metadata": {},
   "outputs": [],
   "source": []
  }
 ],
 "metadata": {
  "kernelspec": {
   "display_name": "my_conda",
   "language": "python",
   "name": "my_conda"
  },
  "language_info": {
   "codemirror_mode": {
    "name": "ipython",
    "version": 3
   },
   "file_extension": ".py",
   "mimetype": "text/x-python",
   "name": "python",
   "nbconvert_exporter": "python",
   "pygments_lexer": "ipython3",
   "version": "3.9.5"
  }
 },
 "nbformat": 4,
 "nbformat_minor": 4
}
