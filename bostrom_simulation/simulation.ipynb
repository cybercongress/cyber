{
 "cells": [
  {
   "cell_type": "markdown",
   "source": [
    "# Bostrom supply simulation\n",
    "---"
   ],
   "metadata": {}
  },
  {
   "cell_type": "markdown",
   "source": [
    "## Goals\n",
    "\n",
    "To optimize parameters for launching Bostrom.\n",
    "\n",
    "An idea is to model the value of BOOT through the understanding of established network effects in Ethereum and Fantom.\n",
    "Then we can forecast claim dynamics and address growth based on approximated network effects. Assuming some demand for cyberlinks based on address growth we can adjust the supply of cyberlinks so that V price could grow. The given model also allows defining inflation parameters of BOOT to optimize investments into the hardware infrastructure.\n"
   ],
   "metadata": {}
  },
  {
   "cell_type": "markdown",
   "source": [
    "## BOOT supply \n",
    "\n",
    "\n",
    "Simulate the ability of heroes to invest in infrastructure depending on different market conditions.  \n",
    "\n",
    "The formula used in the excel model:\n",
    "\n",
    "\n",
    "$ boot\\_supply = start\\_boot\\_supply \\cdot ( 1 + \\frac{ 0.12}{1 + \\frac{days}{365 \\cdot 2}})^{\\frac{days}{365}} $\n",
    "\n",
    "### Simulation parameters\n",
    "\n",
    "- *start_boot_supply* = `1e15`\n",
    "- $ boot\\_supply = start\\_boot\\_supply \\cdot ( 1 + \\frac{ 0.12}{1 + \\frac{days}{365 \\cdot 2}})^{\\frac{days}{365}} $\n",
    "- *boot_inflation_rate_change*\n",
    "- *boot_inflation_max*\n",
    "- *boot_inflation_min*\n",
    "- *boot_bonded_target*  "
   ],
   "metadata": {}
  },
  {
   "cell_type": "markdown",
   "source": [
    "\n",
    "## Gift claim dynamics\n",
    " \n",
    "The addresses for gift are defined in the [research](https://github.com/Snedashkovsky/cybergift). This research [concludes](https://github.com/Snedashkovsky/cybergift#prize-to-be-the-first) 6M addresses for distribution of 70% of BOOT tokens. Further we need to model how this gifts can be claimed. \n",
    "\n",
    "We need to derive *claim_rate* (by formula to define).\n",
    "\n",
    "Assumptions:\n",
    "- 100,000 agents will claim our gift. After that the gift will be activated (*start_agent_count* = 100_000)\n",
    "- it will take 100 days before the gift claiming process will be completed (*days_for_gift_activation* = 100)  \n",
    "\n",
    "  *days_for_gift_activation* is needed to refine days for gift activation to reach *start_agent_count*.\n",
    "\n",
    "After the modeling of claim dynamics, we can set baselines for adoption (\"understanding network effects\" chapter).\n",
    "\n",
    "### Simulation parameters\n",
    "\n",
    "- *start_agent_count* `(10'000, 50'000, 100'000)`\n",
    "- *days_for_gift_activation* `(30, 100)`\n"
   ],
   "metadata": {}
  },
  {
   "cell_type": "markdown",
   "source": [
    "\n",
    "## Understanding network effects\n",
    "\n",
    "Modeling price of BOOT as a function of usage weighted on network effects.  \n",
    "\n",
    "To model agents' growth dynamics of the Bostrom network, we did a regression analysis on active ETH addresses dynamics ([excel spreadsheet online](https://needfordata-my.sharepoint.com/:x:/g/personal/max_needfordata_ru/EZWCgmE-VOBEsGJTg8lslpYBP2LQoBFdMC9LgXleJ3Dj_Q?e=PwmaIh)). We calculated active addresses as addresses with a balance more than 0.01 ETH (the balance sufficient to complete 1 transaction).\n",
    "\n",
    "![](images/EthAgentsDynamics.png)\n",
    "\n",
    "We have combined 2 trendlines and derived the following formula of agents count by days from ETH dynamics.\n",
    "\n",
    "$ agents\\_count = 2 \\cdot days^{2} + 100 \\cdot days + 8700 $\n",
    "\n",
    "Assuming that there are much more crypto-agents now than it was on  time of ETH launch we adjusted formula with coeffients to expect more rapid growth. \n",
    "\n",
    "$ agents\\_count = 9 \\cdot days^2 + 100 \\cdot days + start\\_agents\\_count $\n",
    "\n",
    "\n",
    "We decided to model total capitalization through *capitalization_per_user* metric derived from ETH capitalization in BTC (from 100 day from start till 2160 days of network, as before 100 days ETH price in BTC had a lot of fluctuations). \n",
    "\n",
    "![ETH dynamics](images/EthCapPerAgentActiveInBTC1.png)\n",
    "\n",
    "We derived such formula:\n",
    "\n",
    "$ capitalization\\_per\\_user = 60\\,000 \\cdot agents\\_count^{-0,7} $\n",
    "\n",
    "We assumed that dynamics of capitalization of BOOT token in ETH will resemble ETH token dynamics in BTC prices. We adjusted the formula that our first day *capitalization_per_user* will be equal to 1 ETH (*start_capitalization_per_user* = 1).\n",
    "\n",
    "$ capitalization\\_per\\_user = start\\_capitalization\\_per\\_user \\cdot start\\_agents\\_count^{0.7} \\cdot  agents\\_count^{-0,7} $\n",
    "\n",
    "### Simulation parameters\n",
    "\n",
    "- $ agents\\_count = 9 \\cdot days^2 + 100 \\cdot days + start\\_agents\\_count $\n",
    "- $ start\\_capitalization\\_per\\_user = 1 $\n",
    "- $ capitalization\\_per\\_user = start\\_capitalization\\_per\\_user \\cdot start\\_agents\\_count^{0.7} \\cdot  agents\\_count^{-0,7} $\n"
   ],
   "metadata": {}
  },
  {
   "cell_type": "markdown",
   "source": [
    "## Modeling H supply\n",
    "\n",
    "Agents will delegate 70% of BOOT Supply to heroes, and H will be minted in the corresponding amount (*boot_bonded* = 0.7).\n",
    "\n",
    "$ h\\_supply = boot\\_supply \\cdot boot\\_bonded $\n",
    "\n",
    "### Simulation parameters\n",
    "\n",
    "- *boot_bonded* = `0.7`\n",
    "- $ h\\_supply = boot\\_supply \\cdot boot\\_bonded $"
   ],
   "metadata": {}
  },
  {
   "cell_type": "markdown",
   "source": [
    "## Predicting V demand\n",
    "\n",
    "Simulate cyberlinks usage.  \n",
    "\n",
    "We have derived base estimate of cyberlink per agent formula from ETH data:\n",
    "\n",
    "![ETH Data](images/EthAgentsCountActive_vs_EthTransPerAgent.png)\n",
    "\n",
    "We derived such formula:\n",
    "\n",
    "$ transactions\\_per\\_agent = 9 \\cdot agents\\_count^{-0.3} $\n",
    "\n",
    "And we adjust such formula with the number of extra links and guaranteed links. \n",
    "\n",
    "$ cyberlinks\\_per\\_agent = 9 \\cdot agents\\_count^{-0.3} + extra\\_links + guaranteed\\_links $\n",
    "\n",
    "*Extra_links* count depends on UX specifics, such as name setting, following (proportion of agents) and extra:\n",
    "\n",
    "$ extra\\_links ∝ f( agents\\_count, name, following, extra) $ \n",
    "\n",
    "Also, the founding team envisions some basic stuff to cyberlink such as naming systems and tokens. So we can rely on this demand also adding *guaranteed_links* count.\n",
    "\n",
    "### Simulation parameters \n",
    "\n",
    "- *extra_links* - function to define\n",
    "- *guaranteed_links* - function to define\n",
    "- $ cyberlinks\\_per\\_agent = 9 \\cdot agents\\_count^{-0.3} + extra\\_links + guaranteed\\_links $"
   ],
   "metadata": {}
  },
  {
   "cell_type": "markdown",
   "source": [
    "## Adjusting V and A supply\n",
    "\n",
    "To model minting properties of V and A for the planning of GPU storage and maximization of price.  \n",
    "\n",
    "### Simulation parameteres\n",
    "\n",
    "Parameters to define for V and A:\n",
    "- *investmint_period*\n",
    "- *investmint_amount*\n",
    "- *halving_time*\n",
    "- *investmint_max_period*\n",
    "- *a_v_proportion*"
   ],
   "metadata": {}
  },
  {
   "cell_type": "markdown",
   "source": [
    "## Subtotal summary of simulation parameters\n",
    "\n",
    "- *start_boot_supply* = `1e15`\n",
    "- $ boot\\_supply = start\\_boot\\_supply \\cdot ( 1 + \\frac{ 0.12}{1 + \\frac{days}{365 \\cdot 2}})^{\\frac{days}{365}} $\n",
    "- *boot_inflation_rate_change*\n",
    "- *boot_inflation_max*\n",
    "- *boot_inflation_min*\n",
    "- *boot_bonded_target*  \n",
    "- *start_agent_count* `(10'000, 50'000, 100'000)`\n",
    "- *days_for_gift_activation* `(30, 100)`\n",
    "- $ agents\\_count = 9 \\cdot days^2 + 100 \\cdot days + start\\_agents\\_count $\n",
    "- $ start\\_capitalization\\_per\\_user = 1 $\n",
    "- $ capitalization\\_per\\_user = start\\_capitalization\\_per\\_user \\cdot start\\_agents\\_count^{0.7} \\cdot  agents\\_count^{-0,7} $\n",
    "- *boot_bonded* = `0.7`\n",
    "- $ h\\_supply = boot\\_supply \\cdot boot\\_bonded $\n",
    "- *extra_links* - function to define\n",
    "- *guaranteed_links* - function to define\n",
    "- $ cyberlinks\\_per\\_agent = 9 \\cdot agents\\_count^{-0.3} + extra\\_links + guaranteed\\_links $\n",
    "- *investmint_period*\n",
    "- *investmint_amount*\n",
    "- *halving_time*\n",
    "- *investmint_max_period*\n",
    "- *a_v_proportion*\n",
    "\n"
   ],
   "metadata": {}
  },
  {
   "cell_type": "markdown",
   "source": [
    "## Further work\n",
    "\n",
    "Model could work as prediction governance tool for working network based on acutal measurements.\n",
    "\n",
    "\n",
    "## Legend\n",
    "\n",
    "There are three network tokens:\n",
    "\n",
    "* F - Unclaimed network token\n",
    "* T - Liquid network token\n",
    "* L - Frozen network token\n",
    "\n",
    "\n",
    "and two resource tokens:\n",
    "\n",
    "* A - Amper token\n",
    "* V - Volt token\n",
    "\n",
    "The initial state of all tokens should be defined below\n",
    "\n",
    "* 1 **timestep** == 1 time unit\n",
    "\n",
    "## Claim function\n",
    "\n",
    "The function of claim frozen tokens is:\n",
    "\n",
    "\\begin{gather}\n",
    "\\\\\n",
    "f(x) = 7 \\cdot 10^{14} - \\frac{5.6 \\cdot 10^{14}}{3}x \\\\\n",
    "\\\\\n",
    "\\end{gather}\n",
    "\n",
    "<img src='images/claim.png' />\n",
    "\n",
    "where **x** is year. This function means 80% of frozen tokens are going to be claimed in 3 years linearly by ~187 TeraTokens per year\n",
    "\n",
    "## Vesting and Unvesting\n",
    "\n",
    "The vesting function is defined as the amount of locking tokens in the time unit assumed by all liquid tokens must be locked in the lock timeframe. \n",
    "\n",
    "The vesting function is defined as the amount of unlocking tokens in the time unit assumed by all locked tokens must be unlocked in the unlock timeframe. \n",
    "\n",
    "## Resource tokens\n",
    "\n",
    "Amperes and Volts mints by the following formula:\n",
    "\n",
    "\\begin{gather}\n",
    "\\\\\n",
    "f(x) = \\frac{x \\cdot \\frac{maxLockTime}{cycle}}{initPrice} \\cdot MR^r \\\\\n",
    "\\\\\n",
    "\\end{gather}\n",
    "\n",
    "where: \n",
    "* **x** is number of vested tokens\n",
    "* **lockTime** is the maximum time for locking tokens\n",
    "* **cycle** is amount of blocks for rank and entropy calculation\n",
    "* **initPrice** is the initial price of the minting\n",
    "* **MR_r** is mint rate [100, 1]. It's different for all energy tokens\n",
    "\n",
    "\n",
    "\n",
    "## Mint Rate (Amperes)\n",
    "\n",
    "Mint rate is multiple coefficient for minting Amper tokens\n",
    "\n",
    "It is halving every year\n",
    "\n",
    "\\begin{gather}\n",
    "\\\\\n",
    "MR_a(x) = \\frac{initMR^a}{2^{\\lfloor{x}\\rfloor}}\\\\\n",
    "\\\\\n",
    "\\end{gather}\n",
    "\n",
    "where: \n",
    "* **x** is year\n",
    "* **initMRa** is the initial value of MRa\n",
    "\n",
    "f.e.\n",
    "\n",
    "<img src='images/mr_a.png' />\n",
    "\n",
    "\n",
    "## Mint Rate (Voltes)\n",
    "\n",
    "Mint rate is multiple coefficient for minting Volt tokens\n",
    "\n",
    "It is halving every amount of supply defined\n",
    "\n",
    "\\begin{gather}\n",
    "\\\\\n",
    "MR_v(x) = \\frac{initMR^v}{2^{\\lfloor{x}\\rfloor}}\\\\\n",
    "\\\\\n",
    "\\end{gather}\n",
    "\n",
    "where: \n",
    "* **x** is defined supply\n",
    "* **initMRv** is the initial value of MRv\n",
    "\n",
    "\n",
    "## Inflation\n",
    "\n",
    "The inflation function depends on the ratio between vested tokens and tokens supply. It the same as in cosmos-based networks. \n",
    "\n",
    "## Supply\n",
    "\n",
    "Supply is the sum of liquid, vested and frozen tokens in each block.\n",
    "\n",
    "\n",
    "## Utils\n",
    "\n",
    "The function of using volts for cyberlinking. By the simulation the probability in a timestamp [0.01, 0.02, 0.03, 0.05, 0.08, 0.13, 0.21, 0.34] .\n",
    "\n",
    "\n",
    "## Assumptions\n",
    "\n",
    "1. All agents lock tokens for the maximum available period defined in params for simulating\n",
    "2. All agents mint maximum **A** and **V** tokens in 50/50 ratio"
   ],
   "metadata": {}
  },
  {
   "cell_type": "markdown",
   "source": [
    "## Mathematical Specification"
   ],
   "metadata": {}
  },
  {
   "cell_type": "markdown",
   "source": [
    "### Differential Equations\n",
    "\n",
    "* T - liquid network token\n",
    "* L - locked(vested) network token\n",
    "* F - not claimed(frozen) network token\n",
    "* IRC_u - inflation rate change per time unit\n",
    "* S - total network tokens supply\n",
    "* I - inflation per time unit in network tokens\n",
    "* Provision - per time unit token provision\n",
    "* A - Amper token\n",
    "* V - Volt token\n",
    "* CL - cyberlinks\n",
    "\n",
    "\\begin{gather}\n",
    "\\\\\n",
    "T_u = T_{u-1} + {\\Delta T} \\tag{1} \\\\\n",
    "L_u = V_{u-1} + {\\Delta V} \\tag{2} \\\\\n",
    "F_u = F_{u-1} + {\\Delta F} \\tag{3} \\\\\n",
    "A_u = A_{u-1} + {\\Delta A} \\tag{4} \\\\\n",
    "V_u = V_{u-1} + {\\Delta V} \\tag{5} \\\\ \\\\\n",
    "MR^{a}_{u} = {\\Delta MR^a} \\tag{6} \\\\ \\\\\n",
    "MR^{v}_{u} = {\\Delta MR^v} \\tag{7} \\\\ \\\\\n",
    "CL_{u} = CL_{u-1} + {\\Delta CL} \\tag{8} \\\\ \\\\\n",
    "S_u = T_u + L_u + F_u \\tag{9} \\\\ \n",
    "\\\\\n",
    "\\end{gather}\n",
    "\n",
    "where the rate of change ($\\Delta$) is:\n",
    "\\begin{gather}\n",
    "\\\\\n",
    "{\\Delta F} = - \\frac{5.6 \\cdot 10^{14}}{3 \\cdot unitsPerYear} \\tag{10} \\\\ \\\\\n",
    "{\\Delta L} = \\frac{T_{u-1}}{\\frac{unitsPerYear}{12} \\cdot vestingSpeed} - {\\Delta U} \\tag{11} \\\\ \\\\\n",
    "{\\Delta T} = - {\\Delta F} - {\\Delta L} + I_{u-1} + {\\Delta U}  \\tag{12} \\\\ \\\\\n",
    "{\\Delta A} = \\lfloor{\\lfloor{\\frac{\\frac{1}{2} \\cdot \\Delta L}{initPrice} \\cdot \\frac{vestringTime_{max}}{baseVestingTime}}\\rfloor \\cdot MR^a}\\rfloor  \\tag{13} \\\\ \\\\\n",
    "{\\Delta V} = \\lfloor{\\lfloor{\\frac{\\frac{1}{2} \\cdot \\Delta L}{initPrice} \\cdot \\frac{vestringTime_{max}}{baseVestingTime}}\\rfloor \\cdot MR^v}\\rfloor  \\tag{14} \\\\ \\\\\n",
    "{\\Delta U} = \\frac{V_{u-1}}{\\frac{unitsPerYear}{12} \\cdot unvestingSpeed} \\tag{15} \\\\ \\\\\n",
    "{\\Delta MR^a} = \\frac{MR^a_{init}}{2^{\\lfloor{\\frac{u}{unitsPerYear}}\\rfloor}} \\tag{16} \\\\ \\\\\n",
    "{\\Delta MR^v} = \\frac{MR^v_{init}}{2^{\\lfloor{\\frac{V}{voltHalving}}\\rfloor}} \\tag{17} \\\\ \\\\\n",
    "{\\Delta CL} = V \\cdot Ut(u) \\tag{18} \\\\ \\\\\n",
    "\\\\\n",
    "\\end{gather}\n",
    "\n",
    "where:\n",
    "\\begin{gather}\n",
    "\\\\\n",
    "I_{u-1} = \\frac{S_{u-1} \\cdot IRC_{u-1}}{unitsPerYear} \\tag{19} \\\\ \\\\\n",
    "IRC_u = \\frac{\\left(1 - \\frac{vestedRatio_{u-1}}{goalVested}\\right) \\cdot inflationRateChange}{unitsPerYear} \\tag{20} \\\\ \\\\\n",
    "{vestingTime_{max} = initVestingTime_{max} \\cdot 2^{\\lfloor{\\frac{u}{unitsPerYear}}\\rfloor}} \\tag{21} \\\\ \\\\\n",
    "Ut(u) = [0.01, 0.02, 0.03, 0.05, 0.08, 0.13, 0.21, 0.34] \\tag{22} \n",
    "\\\\\n",
    "\\\\\n",
    "\\end{gather}"
   ],
   "metadata": {}
  },
  {
   "cell_type": "markdown",
   "source": [
    "## A/B simulations params\n",
    "\n",
    "\n",
    "| Param name | Simulation A | Simulation B|\n",
    "|:---|---:|---:|\n",
    "|Liquid Tokens (T)|200,000,000,000,000|200,000,000,000,000|\n",
    "|Frozen Tokens (F)|700,000,000,000,000|700,000,000,000,000|\n",
    "|Vested Tokens (L)|100,000,000,000,000|100,000,000,000,000|\n",
    "|Initial inflation |5.00|5.00|\n",
    "|Amper Mint Rate init|50.00|50.00|\n",
    "|Volt Mint Rate init|100.00|100.00|\n",
    "|Inflation rate change|13.00|13.00|\n",
    "|Inflation min|1.00|1.00|\n",
    "|Inflation max|15.00|15.00|\n",
    "|Goal vested|80.00|80.00|\n",
    "|Volt halving|1,000,000.00|1,000,000.00|\n",
    "|Resource token init price|100,000,000.00|100,000,000.00|"
   ],
   "metadata": {}
  },
  {
   "cell_type": "code",
   "execution_count": null,
   "source": [
    "import time\n",
    "\n",
    "# Standard libraries: https://docs.python.org/3/library/\n",
    "import math\n",
    "\n",
    "# Analysis and plotting modules\n",
    "import pandas as pd"
   ],
   "outputs": [],
   "metadata": {}
  },
  {
   "cell_type": "markdown",
   "source": [
    "## Initial state"
   ],
   "metadata": {}
  },
  {
   "cell_type": "code",
   "execution_count": null,
   "source": [
    "simPeriod = 10          # amount of years for simulating\n",
    "unitsPerYear = 365        # units per year(days)"
   ],
   "outputs": [],
   "metadata": {}
  },
  {
   "cell_type": "code",
   "execution_count": null,
   "source": [
    "initial_state_a = {\n",
    "    'T': 200_000_000_000_000,\n",
    "    'F': 700_000_000_000_000,\n",
    "    'L': 100_000_000_000_000,\n",
    "    'A': 0,\n",
    "    'V': 0,\n",
    "    'd_u': 0,\n",
    "    'I_r': 0.05,\n",
    "    'd_l': 0,\n",
    "    'MRa': 50,\n",
    "    'MRv': 100,\n",
    "    'CL': 0,\n",
    "    'maxVestingTime': math.floor(unitsPerYear / 4)\n",
    "}"
   ],
   "outputs": [],
   "metadata": {}
  },
  {
   "cell_type": "code",
   "execution_count": null,
   "source": [
    "# cadCAD configuration modules\n",
    "from cadCAD.configuration.utils import config_sim\n",
    "from cadCAD.configuration import Experiment\n",
    "\n",
    "# cadCAD simulation engine modules\n",
    "from cadCAD.engine import ExecutionMode, ExecutionContext\n",
    "from cadCAD.engine import Executor\n",
    "\n",
    "from collections import Counter\n",
    "from cadCAD import configs\n",
    "\n",
    "# custom functions modules\n",
    "\n",
    "from utils.psub import partial_state_update_blocks"
   ],
   "outputs": [],
   "metadata": {}
  },
  {
   "cell_type": "markdown",
   "source": [
    "## Params for simulating"
   ],
   "metadata": {}
  },
  {
   "cell_type": "code",
   "execution_count": null,
   "source": [
    "import itertools\n",
    "\n",
    "vestingSpeed = [3, 6, 12, 18, 24, 30, 36]\n",
    "unvestingSpeed = [72, 60, 48, 36, 30, 24]\n",
    "cyberlinks_util = [0.01, 0.02, 0.03, 0.05, 0.08, 0.13, 0.21, 0.34]\n",
    "\n",
    "parameter_sweep = list(itertools.product(vestingSpeed, unvestingSpeed, cyberlinks_util))\n",
    "\n",
    "vestingSpeed = [x[0] for x in parameter_sweep]\n",
    "unvestingSpeed = [x[1] for x in parameter_sweep]\n",
    "cyberlinks_util = [x[2] for x in parameter_sweep]"
   ],
   "outputs": [],
   "metadata": {}
  },
  {
   "cell_type": "code",
   "execution_count": null,
   "source": [
    "system_params_a = {\n",
    "    'inflationRateChange': [0.13], # maximum inflation rate change per year\n",
    "    'inflationMin': [0.01], # minimum percent of the inflation\n",
    "    'inflationMax': [0.15], # maximum percent of the inflation\n",
    "    'goalVested': [0.80], # desireable ratio between vested tokens and tokens supply\n",
    "    'unitsPerYear': [unitsPerYear], # units per year(minutes)\n",
    "    'vestingSpeed': vestingSpeed, # amount of months to vest all liquid tokens\n",
    "    'unvestingSpeed': unvestingSpeed, # amount of months to uninvest all vested tokens\n",
    "    'voltHalving': [10_000_000], # 10 MegaVolt\n",
    "    'cyberlinks_util': cyberlinks_util,\n",
    "    'MRa': [50], # initial mint rate for Amperes\n",
    "    'MRv': [100], # initial mint rate for Voltes\n",
    "    'initPrice': [10_000_000], # initial cost for resource token in 1 cycle\n",
    "    'baseVestingTime': [math.floor(unitsPerYear / 4)]\n",
    "}"
   ],
   "outputs": [],
   "metadata": {}
  },
  {
   "cell_type": "code",
   "execution_count": null,
   "source": [
    "del configs[:]\n",
    "experiment = Experiment()\n",
    "\n",
    "sim_config = config_sim({\n",
    "    'N': 1,\n",
    "    'T': range(int(math.ceil(simPeriod * unitsPerYear))),\n",
    "    'M': system_params_a\n",
    "})\n",
    "\n",
    "experiment.append_configs(\n",
    "    initial_state = initial_state_a,\n",
    "    partial_state_update_blocks = partial_state_update_blocks,\n",
    "    sim_configs = sim_config\n",
    ")"
   ],
   "outputs": [],
   "metadata": {}
  },
  {
   "cell_type": "code",
   "execution_count": null,
   "source": [
    "exec_context = ExecutionContext()\n",
    "\n",
    "simulation = Executor(exec_context=exec_context, configs=configs)\n",
    "raw_result, tensor_field, sessions = simulation.execute()"
   ],
   "outputs": [],
   "metadata": {
    "scrolled": false
   }
  },
  {
   "cell_type": "code",
   "execution_count": null,
   "source": [
    "start_time = time.time()\n",
    "simulation_result = pd.DataFrame(raw_result)\n",
    "print(\"--- %s seconds ---\" % (time.time() - start_time))"
   ],
   "outputs": [],
   "metadata": {}
  },
  {
   "cell_type": "code",
   "execution_count": null,
   "source": [
    "start_time = time.time()"
   ],
   "outputs": [],
   "metadata": {}
  },
  {
   "cell_type": "code",
   "execution_count": null,
   "source": [
    "df = simulation_result.copy()\n",
    "df['Supply'] = df['T'] + df['F'] + df['L']\n",
    "df['AmPrice'] = df['A'] / df['V']\n",
    "df"
   ],
   "outputs": [],
   "metadata": {}
  },
  {
   "cell_type": "code",
   "execution_count": null,
   "source": [
    "df"
   ],
   "outputs": [],
   "metadata": {}
  },
  {
   "cell_type": "code",
   "execution_count": null,
   "source": [
    "# save local model file for power bi\n",
    "# import pyarrow as pa\n",
    "# import pyarrow.parquet as pq\n",
    "# table = pa.Table.from_pandas(df)\n",
    "# pq.write_table(table, 'simulation.parquet')"
   ],
   "outputs": [],
   "metadata": {}
  },
  {
   "cell_type": "code",
   "execution_count": null,
   "source": [
    "from utils.plots import linear_plot, scatter_plot, df_preparator"
   ],
   "outputs": [],
   "metadata": {}
  },
  {
   "cell_type": "code",
   "execution_count": null,
   "source": [
    "plot_df = df_preparator(df)"
   ],
   "outputs": [],
   "metadata": {}
  },
  {
   "cell_type": "markdown",
   "source": [
    "## Inflation"
   ],
   "metadata": {}
  },
  {
   "cell_type": "code",
   "execution_count": null,
   "source": [
    "scatter_plot(plot_df, \"I_r\")"
   ],
   "outputs": [],
   "metadata": {
    "scrolled": false
   }
  },
  {
   "cell_type": "markdown",
   "source": [
    "## Supply"
   ],
   "metadata": {}
  },
  {
   "cell_type": "code",
   "execution_count": null,
   "source": [
    "scatter_plot(plot_df, 'Supply')"
   ],
   "outputs": [],
   "metadata": {}
  },
  {
   "cell_type": "markdown",
   "source": [
    "## Vested"
   ],
   "metadata": {}
  },
  {
   "cell_type": "code",
   "execution_count": null,
   "source": [
    "scatter_plot(plot_df, 'L')"
   ],
   "outputs": [],
   "metadata": {}
  },
  {
   "cell_type": "markdown",
   "source": [
    "## Ampler tokens supply"
   ],
   "metadata": {}
  },
  {
   "cell_type": "code",
   "execution_count": null,
   "source": [
    "scatter_plot(plot_df, 'A')"
   ],
   "outputs": [],
   "metadata": {}
  },
  {
   "cell_type": "markdown",
   "source": [
    "## Volt tokens supply"
   ],
   "metadata": {}
  },
  {
   "cell_type": "code",
   "execution_count": null,
   "source": [
    "scatter_plot(plot_df, 'V')"
   ],
   "outputs": [],
   "metadata": {}
  },
  {
   "cell_type": "markdown",
   "source": [
    "## Mint Rate Volter-Amper"
   ],
   "metadata": {}
  },
  {
   "cell_type": "code",
   "execution_count": null,
   "source": [
    "linear_plot(plot_df, ['MRa', 'MRv'])"
   ],
   "outputs": [],
   "metadata": {}
  },
  {
   "cell_type": "markdown",
   "source": [
    "## Max vesting time"
   ],
   "metadata": {}
  },
  {
   "cell_type": "code",
   "execution_count": null,
   "source": [
    "linear_plot(plot_df, 'maxVestingTime')"
   ],
   "outputs": [],
   "metadata": {}
  },
  {
   "cell_type": "markdown",
   "source": [
    "## Ratio between amper supply and volt supply"
   ],
   "metadata": {}
  },
  {
   "cell_type": "code",
   "execution_count": null,
   "source": [
    "scatter_plot(plot_df, 'AmPrice')"
   ],
   "outputs": [],
   "metadata": {
    "scrolled": false
   }
  },
  {
   "cell_type": "markdown",
   "source": [
    "## Cyberlinks"
   ],
   "metadata": {}
  },
  {
   "cell_type": "code",
   "execution_count": null,
   "source": [
    "scatter_plot(plot_df, 'CL')"
   ],
   "outputs": [],
   "metadata": {}
  },
  {
   "cell_type": "code",
   "execution_count": null,
   "source": [
    "print(\"--- %s seconds ---\" % (time.time() - start_time))"
   ],
   "outputs": [],
   "metadata": {}
  },
  {
   "cell_type": "code",
   "execution_count": null,
   "source": [],
   "outputs": [],
   "metadata": {}
  }
 ],
 "metadata": {
  "kernelspec": {
   "display_name": "my_conda",
   "language": "python",
   "name": "my_conda"
  },
  "language_info": {
   "codemirror_mode": {
    "name": "ipython",
    "version": 3
   },
   "file_extension": ".py",
   "mimetype": "text/x-python",
   "name": "python",
   "nbconvert_exporter": "python",
   "pygments_lexer": "ipython3",
   "version": "3.9.5"
  }
 },
 "nbformat": 4,
 "nbformat_minor": 4
}