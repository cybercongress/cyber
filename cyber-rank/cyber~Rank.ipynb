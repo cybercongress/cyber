{
 "cells": [
  {
   "cell_type": "markdown",
   "metadata": {},
   "source": [
    "## cyber~rank"
   ]
  },
  {
   "cell_type": "code",
   "execution_count": 1,
   "metadata": {},
   "outputs": [],
   "source": [
    "import math\n",
    "import collections\n",
    "import functools\n",
    "import operator"
   ]
  },
  {
   "cell_type": "markdown",
   "metadata": {},
   "source": [
    "Lets say 4 agents in the network with resource token balances (2.000, 7.000, 9.000, 5.000) accor"
   ]
  },
  {
   "cell_type": "code",
   "execution_count": 2,
   "metadata": {},
   "outputs": [],
   "source": [
    "agents = {\n",
    "    'agent_1': 2.000,\n",
    "    'agent_2': 7.000,\n",
    "    'agent_3': 9.000,\n",
    "    'agent_4': 5.000,\n",
    "}"
   ]
  },
  {
   "cell_type": "markdown",
   "metadata": {},
   "source": [
    "Named agents create cyberlinks:"
   ]
  },
  {
   "cell_type": "code",
   "execution_count": 3,
   "metadata": {},
   "outputs": [],
   "source": [
    "agents_cyberlinks = {\n",
    "    'agent_1': [(1, 2), (3, 4), (0, 1), (0, 2), (0, 3), (0, 4)],\n",
    "    'agent_2': [(2, 3), (0, 2), (0, 3)],\n",
    "    'agent_3': [(1, 3), (2, 4), (3, 4), (0, 1), (0, 2), (0, 3), (0, 4)],\n",
    "    'agent_4': [(4, 2), (2, 1), (0, 1), (0, 2), (0, 4)],\n",
    "}"
   ]
  },
  {
   "cell_type": "markdown",
   "metadata": {},
   "source": [
    "Let's define a function to prepare the context for cyber~rank and entropy calculations:"
   ]
  },
  {
   "cell_type": "code",
   "execution_count": 4,
   "metadata": {},
   "outputs": [],
   "source": [
    "def context_preparator(agents: dict, agents_cyberlinks: dict) -> list:\n",
    "    cyberlinks_with_agent_weight = []\n",
    "    for agent, cyberlinks in agents_cyberlinks.items():\n",
    "        temp = (cyberlinks, agents[agent])\n",
    "        cyberlinks_with_agent_weight.append(temp)\n",
    "    grouped_cyberlinks = collections.Counter()\n",
    "    for agent_cyberlinks in cyberlinks_with_agent_weight:\n",
    "        cyberlinks = agent_cyberlinks[0]\n",
    "        agent_weight = agent_cyberlinks[1]\n",
    "        agent_cyberlink_weight = agent_weight / len(cyberlinks)\n",
    "        agent_weighted_cyberlinks = {cyberlink: agent_cyberlink_weight for cyberlink in cyberlinks}\n",
    "        grouped_cyberlinks += collections.Counter(agent_weighted_cyberlinks)\n",
    "    cyberlinks = [{k:v} for k,v in grouped_cyberlinks.items()]\n",
    "    return cyberlinks"
   ]
  },
  {
   "cell_type": "markdown",
   "metadata": {},
   "source": [
    "And now let prepare context for the rank and entropy calculations"
   ]
  },
  {
   "cell_type": "code",
   "execution_count": 5,
   "metadata": {},
   "outputs": [
    {
     "data": {
      "text/plain": [
       "[{(1, 2): 0.3333333333333333},\n",
       " {(3, 4): 1.619047619047619},\n",
       " {(0, 1): 2.619047619047619},\n",
       " {(0, 2): 4.9523809523809526},\n",
       " {(0, 3): 3.9523809523809526},\n",
       " {(0, 4): 2.619047619047619},\n",
       " {(2, 3): 2.3333333333333335},\n",
       " {(1, 3): 1.2857142857142858},\n",
       " {(2, 4): 1.2857142857142858},\n",
       " {(4, 2): 1.0},\n",
       " {(2, 1): 1.0}]"
      ]
     },
     "execution_count": 5,
     "metadata": {},
     "output_type": "execute_result"
    }
   ],
   "source": [
    "cyberlinks = context_preparator(agents, agents_cyberlinks)\n",
    "cyberlinks"
   ]
  },
  {
   "cell_type": "markdown",
   "metadata": {},
   "source": [
    "Define cyber rank function:"
   ]
  },
  {
   "cell_type": "code",
   "execution_count": 6,
   "metadata": {},
   "outputs": [],
   "source": [
    "def cyber_rank(cyberlinks: list, tolerance: float = 0.001, damping_factor: float = 0.8):\n",
    "    cyberlinks_dict = dict(functools.reduce(operator.add, map(collections.Counter, cyberlinks)))\n",
    "    objects = list(set([item for t in [list(x.keys())[0] for x in cyberlinks] for item in t]))\n",
    "    rank = [0] * len(objects)\n",
    "    size = len(objects)\n",
    "    default_rank = (1.0 - damping_factor) / size\n",
    "    dangling_nodes = [obj for obj in objects if obj not in [list(cyberlink.keys())[0][1] for cyberlink in cyberlinks]]\n",
    "    dangling_nodes_size = len(dangling_nodes)\n",
    "    inner_product_over_size = default_rank * (dangling_nodes_size / size)\n",
    "    default_rank_with_correction = (damping_factor * inner_product_over_size) + default_rank\n",
    "    change = tolerance + 1\n",
    "\n",
    "    steps = 0\n",
    "    prevrank = [0] * len(objects)\n",
    "    while change > tolerance:\n",
    "        for obj in objects:\n",
    "            obj_index = objects.index(obj)\n",
    "            ksum = 0\n",
    "            income_cyberlinks = [income_cyberlink for income_cyberlink in [list(x.keys())[0] for x in cyberlinks] if income_cyberlink[1] == obj]\n",
    "            for cyberlink in income_cyberlinks:\n",
    "                linkStake = cyberlinks_dict[cyberlink]\n",
    "                outcome_cyberlinks = [outcome_cyberlink for outcome_cyberlink in [list(x.keys())[0] for x in cyberlinks] if outcome_cyberlink[0] == cyberlink[0]]\n",
    "                jCidOutStake = sum([cyberlinks_dict[outcome_cyberlink] for outcome_cyberlink in outcome_cyberlinks])\n",
    "                if linkStake == 0 or jCidOutStake == 0:\n",
    "                    continue\n",
    "                weight = linkStake / jCidOutStake\n",
    "                ksum = prevrank[obj_index] * weight + ksum\n",
    "            rank[obj_index] = ksum * damping_factor + default_rank_with_correction\n",
    "        change = abs(max(rank) - max(prevrank))\n",
    "        prevrank = rank\n",
    "        steps += 1\n",
    "    res = list(zip(objects, rank))\n",
    "    res.sort(reverse=True, key=lambda x: x[1])\n",
    "    return res"
   ]
  },
  {
   "cell_type": "code",
   "execution_count": 7,
   "metadata": {},
   "outputs": [
    {
     "data": {
      "text/plain": [
       "[(3, 0.10500258995861178),\n",
       " (2, 0.10416060209942563),\n",
       " (4, 0.10072644520809468),\n",
       " (1, 0.06131036273386788),\n",
       " (0, 0.0464)]"
      ]
     },
     "execution_count": 7,
     "metadata": {},
     "output_type": "execute_result"
    }
   ],
   "source": [
    "cyber_rank(cyberlinks)"
   ]
  }
 ],
 "metadata": {
  "interpreter": {
   "hash": "8618ed240d7373f0146796ba288365512d2ba3d8b003bb632988862806bfce49"
  },
  "kernelspec": {
   "display_name": "Python 3.9.5 64-bit ('my_conda': conda)",
   "name": "python3"
  },
  "language_info": {
   "codemirror_mode": {
    "name": "ipython",
    "version": 3
   },
   "file_extension": ".py",
   "mimetype": "text/x-python",
   "name": "python",
   "nbconvert_exporter": "python",
   "pygments_lexer": "ipython3",
   "version": "3.9.5"
  }
 },
 "nbformat": 4,
 "nbformat_minor": 2
}
